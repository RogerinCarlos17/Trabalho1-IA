{
  "nbformat": 4,
  "nbformat_minor": 0,
  "metadata": {
    "colab": {
      "provenance": []
    },
    "kernelspec": {
      "name": "python3",
      "display_name": "Python 3"
    },
    "language_info": {
      "name": "python"
    }
  },
  "cells": [
    {
      "cell_type": "code",
      "execution_count": 26,
      "metadata": {
        "id": "ib6MLqcX4JhD",
        "collapsed": true,
        "colab": {
          "base_uri": "https://localhost:8080/"
        },
        "outputId": "1e95a6e2-97ee-4706-ea20-17dbb2cb4f6c"
      },
      "outputs": [
        {
          "output_type": "stream",
          "name": "stdout",
          "text": [
            "Requirement already satisfied: ucimlrepo in /usr/local/lib/python3.10/dist-packages (0.0.7)\n",
            "Requirement already satisfied: pandas>=1.0.0 in /usr/local/lib/python3.10/dist-packages (from ucimlrepo) (2.2.2)\n",
            "Requirement already satisfied: certifi>=2020.12.5 in /usr/local/lib/python3.10/dist-packages (from ucimlrepo) (2024.8.30)\n",
            "Requirement already satisfied: numpy>=1.22.4 in /usr/local/lib/python3.10/dist-packages (from pandas>=1.0.0->ucimlrepo) (1.26.4)\n",
            "Requirement already satisfied: python-dateutil>=2.8.2 in /usr/local/lib/python3.10/dist-packages (from pandas>=1.0.0->ucimlrepo) (2.8.2)\n",
            "Requirement already satisfied: pytz>=2020.1 in /usr/local/lib/python3.10/dist-packages (from pandas>=1.0.0->ucimlrepo) (2024.2)\n",
            "Requirement already satisfied: tzdata>=2022.7 in /usr/local/lib/python3.10/dist-packages (from pandas>=1.0.0->ucimlrepo) (2024.2)\n",
            "Requirement already satisfied: six>=1.5 in /usr/local/lib/python3.10/dist-packages (from python-dateutil>=2.8.2->pandas>=1.0.0->ucimlrepo) (1.16.0)\n"
          ]
        }
      ],
      "source": [
        "!pip install ucimlrepo"
      ]
    },
    {
      "cell_type": "markdown",
      "source": [
        "Import da Base Dados para o Exercicio 1"
      ],
      "metadata": {
        "id": "FbUoDZfbmTnL"
      }
    },
    {
      "cell_type": "code",
      "source": [
        "from ucimlrepo import fetch_ucirepo\n",
        "\n",
        "# fetch dataset\n",
        "communities_and_crime = fetch_ucirepo(id=183)\n",
        "\n",
        "# data (as pandas dataframes)\n",
        "X = communities_and_crime.data.features\n",
        "y = communities_and_crime.data.targets\n",
        "\n",
        "# metadata\n",
        "print(communities_and_crime.metadata)\n",
        "\n",
        "# variable information\n",
        "print(communities_and_crime.variables)\n",
        "\n",
        "\n"
      ],
      "metadata": {
        "collapsed": true,
        "id": "mQekiDqUYO1t",
        "colab": {
          "base_uri": "https://localhost:8080/"
        },
        "outputId": "0ef1877e-d259-43dc-8a5b-c175060c2cb2"
      },
      "execution_count": 27,
      "outputs": [
        {
          "output_type": "stream",
          "name": "stdout",
          "text": [
            "{'uci_id': 183, 'name': 'Communities and Crime', 'repository_url': 'https://archive.ics.uci.edu/dataset/183/communities+and+crime', 'data_url': 'https://archive.ics.uci.edu/static/public/183/data.csv', 'abstract': 'Communities within the United States. The data combines socio-economic data from the 1990 US Census, law enforcement data from the 1990 US LEMAS survey, and crime data from the 1995 FBI UCR.', 'area': 'Social Science', 'tasks': ['Regression'], 'characteristics': ['Multivariate'], 'num_instances': 1994, 'num_features': 127, 'feature_types': ['Real'], 'demographics': ['Race', 'Age', 'Income', 'Occupation'], 'target_col': ['ViolentCrimesPerPop'], 'index_col': None, 'has_missing_values': 'yes', 'missing_values_symbol': 'NaN', 'year_of_dataset_creation': 2002, 'last_updated': 'Mon Mar 04 2024', 'dataset_doi': '10.24432/C53W3X', 'creators': ['Michael Redmond'], 'intro_paper': {'ID': 405, 'type': 'NATIVE', 'title': 'A data-driven software tool for enabling cooperative information sharing among police departments', 'authors': 'Michael Redmond, Alok Baveja', 'venue': 'European Journal of Operational Research', 'year': 2002, 'journal': None, 'DOI': '10.1016/S0377-2217(01)00264-8', 'URL': 'https://www.semanticscholar.org/paper/2cbe83cae40f5236146aae99522397407a56e7d7', 'sha': None, 'corpus': None, 'arxiv': None, 'mag': None, 'acl': None, 'pmid': None, 'pmcid': None}, 'additional_info': {'summary': \"  Many variables are included so that algorithms that select or learn weights for attributes could be tested. However, clearly unrelated attributes were not included; attributes were picked if there was any plausible connection to crime (N=122), plus the attribute to be predicted (Per Capita Violent Crimes). The variables included in the dataset involve the community, such as the percent of the population considered urban, and the median family income, and involving law enforcement, such as per capita number of police officers, and percent of officers assigned to drug units. \\r\\n \\r\\n The per capita violent crimes variable was calculated using population and the sum of crime variables considered violent crimes in the United States: murder, rape, robbery, and assault. There was apparently some controversy in some states concerning the counting of rapes. These resulted in missing values for rape, which resulted in incorrect values for per capita violent crime. These cities are not included in the dataset. Many of these omitted communities were from the midwestern USA.\\r\\n\\r\\n  Data is described below based on original values. All numeric data was normalized into the decimal range  0.00-1.00 using an Unsupervised, equal-interval binning method. Attributes retain their distribution and skew (hence for example the population attribute has a mean value of  0.06 because most communities are small). E.g. An attribute described as 'mean people per household' is actually the normalized (0-1) version of that value.\\r\\n\\r\\n  The normalization preserves rough ratios of values WITHIN an attribute (e.g. double the value for double the population within the available precision - except for extreme values (all values more than 3 SD above the mean are normalized to 1.00; all values more than 3 SD below the mean are nromalized to  0.00)).\\r\\n\\r\\n  However, the normalization does not preserve relationships between values BETWEEN attributes (e.g. it would not be meaningful to compare the value for whitePerCap with the value for blackPerCap for a community)\\r\\n\\r\\n  A limitation was that the LEMAS survey was of the police departments with at least 100 officers, plus a random sample of smaller departments. For our purposes, communities not found in both census and crime datasets were omitted. Many communities are missing LEMAS data.\\r\\n\\r\\n.arff header for Weka:\\r\\n\\r\\n@relation crimepredict\\r\\n\\r\\n@attribute state numeric\\r\\n@attribute county numeric\\r\\n@attribute community numeric\\r\\n@attribute communityname string\\r\\n@attribute fold numeric\\r\\n@attribute population numeric\\r\\n@attribute householdsize numeric\\r\\n@attribute racepctblack numeric\\r\\n@attribute racePctWhite numeric\\r\\n@attribute racePctAsian numeric\\r\\n@attribute racePctHisp numeric\\r\\n@attribute agePct12t21 numeric\\r\\n@attribute agePct12t29 numeric\\r\\n@attribute agePct16t24 numeric\\r\\n@attribute agePct65up numeric\\r\\n@attribute numbUrban numeric\\r\\n@attribute pctUrban numeric\\r\\n@attribute medIncome numeric\\r\\n@attribute pctWWage numeric\\r\\n@attribute pctWFarmSelf numeric\\r\\n@attribute pctWInvInc numeric\\r\\n@attribute pctWSocSec numeric\\r\\n@attribute pctWPubAsst numeric\\r\\n@attribute pctWRetire numeric\\r\\n@attribute medFamInc numeric\\r\\n@attribute perCapInc numeric\\r\\n@attribute whitePerCap numeric\\r\\n@attribute blackPerCap numeric\\r\\n@attribute indianPerCap numeric\\r\\n@attribute AsianPerCap numeric\\r\\n@attribute OtherPerCap numeric\\r\\n@attribute HispPerCap numeric\\r\\n@attribute NumUnderPov numeric\\r\\n@attribute PctPopUnderPov numeric\\r\\n@attribute PctLess9thGrade numeric\\r\\n@attribute PctNotHSGrad numeric\\r\\n@attribute PctBSorMore numeric\\r\\n@attribute PctUnemployed numeric\\r\\n@attribute PctEmploy numeric\\r\\n@attribute PctEmplManu numeric\\r\\n@attribute PctEmplProfServ numeric\\r\\n@attribute PctOccupManu numeric\\r\\n@attribute PctOccupMgmtProf numeric\\r\\n@attribute MalePctDivorce numeric\\r\\n@attribute MalePctNevMarr numeric\\r\\n@attribute FemalePctDiv numeric\\r\\n@attribute TotalPctDiv numeric\\r\\n@attribute PersPerFam numeric\\r\\n@attribute PctFam2Par numeric\\r\\n@attribute PctKids2Par numeric\\r\\n@attribute PctYoungKids2Par numeric\\r\\n@attribute PctTeen2Par numeric\\r\\n@attribute PctWorkMomYoungKids numeric\\r\\n@attribute PctWorkMom numeric\\r\\n@attribute NumIlleg numeric\\r\\n@attribute PctIlleg numeric\\r\\n@attribute NumImmig numeric\\r\\n@attribute PctImmigRecent numeric\\r\\n@attribute PctImmigRec5 numeric\\r\\n@attribute PctImmigRec8 numeric\\r\\n@attribute PctImmigRec10 numeric\\r\\n@attribute PctRecentImmig numeric\\r\\n@attribute PctRecImmig5 numeric\\r\\n@attribute PctRecImmig8 numeric\\r\\n@attribute PctRecImmig10 numeric\\r\\n@attribute PctSpeakEnglOnly numeric\\r\\n@attribute PctNotSpeakEnglWell numeric\\r\\n@attribute PctLargHouseFam numeric\\r\\n@attribute PctLargHouseOccup numeric\\r\\n@attribute PersPerOccupHous numeric\\r\\n@attribute PersPerOwnOccHous numeric\\r\\n@attribute PersPerRentOccHous numeric\\r\\n@attribute PctPersOwnOccup numeric\\r\\n@attribute PctPersDenseHous numeric\\r\\n@attribute PctHousLess3BR numeric\\r\\n@attribute MedNumBR numeric\\r\\n@attribute HousVacant numeric\\r\\n@attribute PctHousOccup numeric\\r\\n@attribute PctHousOwnOcc numeric\\r\\n@attribute PctVacantBoarded numeric\\r\\n@attribute PctVacMore6Mos numeric\\r\\n@attribute MedYrHousBuilt numeric\\r\\n@attribute PctHousNoPhone numeric\\r\\n@attribute PctWOFullPlumb numeric\\r\\n@attribute OwnOccLowQuart numeric\\r\\n@attribute OwnOccMedVal numeric\\r\\n@attribute OwnOccHiQuart numeric\\r\\n@attribute RentLowQ numeric\\r\\n@attribute RentMedian numeric\\r\\n@attribute RentHighQ numeric\\r\\n@attribute MedRent numeric\\r\\n@attribute MedRentPctHousInc numeric\\r\\n@attribute MedOwnCostPctInc numeric\\r\\n@attribute MedOwnCostPctIncNoMtg numeric\\r\\n@attribute NumInShelters numeric\\r\\n@attribute NumStreet numeric\\r\\n@attribute PctForeignBorn numeric\\r\\n@attribute PctBornSameState numeric\\r\\n@attribute PctSameHouse85 numeric\\r\\n@attribute PctSameCity85 numeric\\r\\n@attribute PctSameState85 numeric\\r\\n@attribute LemasSwornFT numeric\\r\\n@attribute LemasSwFTPerPop numeric\\r\\n@attribute LemasSwFTFieldOps numeric\\r\\n@attribute LemasSwFTFieldPerPop numeric\\r\\n@attribute LemasTotalReq numeric\\r\\n@attribute LemasTotReqPerPop numeric\\r\\n@attribute PolicReqPerOffic numeric\\r\\n@attribute PolicPerPop numeric\\r\\n@attribute RacialMatchCommPol numeric\\r\\n@attribute PctPolicWhite numeric\\r\\n@attribute PctPolicBlack numeric\\r\\n@attribute PctPolicHisp numeric\\r\\n@attribute PctPolicAsian numeric\\r\\n@attribute PctPolicMinor numeric\\r\\n@attribute OfficAssgnDrugUnits numeric\\r\\n@attribute NumKindsDrugsSeiz numeric\\r\\n@attribute PolicAveOTWorked numeric\\r\\n@attribute LandArea numeric\\r\\n@attribute PopDens numeric\\r\\n@attribute PctUsePubTrans numeric\\r\\n@attribute PolicCars numeric\\r\\n@attribute PolicOperBudg numeric\\r\\n@attribute LemasPctPolicOnPatr numeric\\r\\n@attribute LemasGangUnitDeploy numeric\\r\\n@attribute LemasPctOfficDrugUn numeric\\r\\n@attribute PolicBudgPerPop numeric\\r\\n@attribute ViolentCrimesPerPop numeric\\r\\n\\r\\n@data\\r\\n\\r\\n  \", 'purpose': None, 'funded_by': None, 'instances_represent': None, 'recommended_data_splits': None, 'sensitive_data': None, 'preprocessing_description': None, 'variable_info': \"Attribute Information: (122 predictive, 5 non-predictive, 1 goal)\\r\\n  -- state: US state (by number) - not counted as predictive above, but if considered, should be consided nominal (nominal) \\r\\n  -- county: numeric code for county - not predictive, and many missing values (numeric)\\r\\n  -- community: numeric code for community - not predictive and many missing values (numeric)\\r\\n  -- communityname: community name - not predictive - for information only (string)\\r\\n  -- fold: fold number for non-random 10 fold cross validation, potentially useful for debugging, paired tests - not predictive (numeric)\\r\\n  -- population: population for community: (numeric - decimal)\\r\\n  -- householdsize: mean people per household (numeric - decimal)\\r\\n  -- racepctblack: percentage of population that is african american (numeric - decimal)\\r\\n  -- racePctWhite: percentage of population that is caucasian (numeric - decimal)\\r\\n  -- racePctAsian: percentage of population that is of asian heritage (numeric - decimal)\\r\\n  -- racePctHisp: percentage of population that is of hispanic heritage (numeric - decimal)\\r\\n  -- agePct12t21: percentage of population that is 12-21 in age (numeric - decimal)\\r\\n  -- agePct12t29: percentage of population that is 12-29 in age (numeric - decimal)\\r\\n  -- agePct16t24: percentage of population that is 16-24 in age (numeric - decimal)\\r\\n  -- agePct65up: percentage of population that is 65 and over in age (numeric - decimal)\\r\\n  -- numbUrban: number of people living in areas classified as urban (numeric - decimal)\\r\\n  -- pctUrban: percentage of people living in areas classified as urban (numeric - decimal)\\r\\n  -- medIncome: median household income (numeric - decimal)\\r\\n  -- pctWWage: percentage of households with wage or salary income in 1989 (numeric - decimal)\\r\\n  -- pctWFarmSelf: percentage of households with farm or self employment income in 1989 (numeric - decimal)\\r\\n  -- pctWInvInc: percentage of households with investment / rent income in 1989 (numeric - decimal)\\r\\n  -- pctWSocSec: percentage of households with social security income in 1989 (numeric - decimal)\\r\\n  -- pctWPubAsst: percentage of households with public assistance income in 1989 (numeric - decimal)\\r\\n  -- pctWRetire: percentage of households with retirement income in 1989 (numeric - decimal)\\r\\n  -- medFamInc: median family income (differs from household income for non-family households) (numeric - decimal)\\r\\n  -- perCapInc: per capita income (numeric - decimal)\\r\\n  -- whitePerCap: per capita income for caucasians (numeric - decimal)\\r\\n  -- blackPerCap: per capita income for african americans (numeric - decimal)\\r\\n  -- indianPerCap: per capita income for native americans (numeric - decimal)\\r\\n  -- AsianPerCap: per capita income for people with asian heritage (numeric - decimal)\\r\\n  -- OtherPerCap: per capita income for people with 'other' heritage (numeric - decimal)\\r\\n  -- HispPerCap: per capita income for people with hispanic heritage (numeric - decimal)\\r\\n  -- NumUnderPov: number of people under the poverty level (numeric - decimal)\\r\\n  -- PctPopUnderPov: percentage of people under the poverty level (numeric - decimal)\\r\\n  -- PctLess9thGrade: percentage of people 25 and over with less than a 9th grade education (numeric - decimal)\\r\\n  -- PctNotHSGrad: percentage of people 25 and over that are not high school graduates (numeric - decimal)\\r\\n  -- PctBSorMore: percentage of people 25 and over with a bachelors degree or higher education (numeric - decimal)\\r\\n  -- PctUnemployed: percentage of people 16 and over, in the labor force, and unemployed (numeric - decimal)\\r\\n  -- PctEmploy: percentage of people 16 and over who are employed (numeric - decimal)\\r\\n  -- PctEmplManu: percentage of people 16 and over who are employed in manufacturing (numeric - decimal)\\r\\n  -- PctEmplProfServ: percentage of people 16 and over who are employed in professional services (numeric - decimal)\\r\\n  -- PctOccupManu: percentage of people 16 and over who are employed in manufacturing (numeric - decimal)   ########\\r\\n  -- PctOccupMgmtProf: percentage of people 16 and over who are employed in management or professional occupations (numeric - decimal)\\r\\n  -- MalePctDivorce: percentage of males who are divorced (numeric - decimal)\\r\\n  -- MalePctNevMarr: percentage of males who have never married (numeric - decimal)\\r\\n  -- FemalePctDiv: percentage of females who are divorced (numeric - decimal)\\r\\n  -- TotalPctDiv: percentage of population who are divorced (numeric - decimal)\\r\\n  -- PersPerFam: mean number of people per family (numeric - decimal)\\r\\n  -- PctFam2Par: percentage of families (with kids) that are headed by two parents (numeric - decimal)\\r\\n  -- PctKids2Par: percentage of kids in family housing with two parents (numeric - decimal)\\r\\n  -- PctYoungKids2Par: percent of kids 4 and under in two parent households (numeric - decimal)\\r\\n  -- PctTeen2Par: percent of kids age 12-17 in two parent households (numeric - decimal)\\r\\n  -- PctWorkMomYoungKids: percentage of moms of kids 6 and under in labor force (numeric - decimal)\\r\\n  -- PctWorkMom: percentage of moms of kids under 18 in labor force (numeric - decimal)\\r\\n  -- NumIlleg: number of kids born to never married (numeric - decimal)\\r\\n  -- PctIlleg: percentage of kids born to never married (numeric - decimal)\\r\\n  -- NumImmig: total number of people known to be foreign born (numeric - decimal)\\r\\n  -- PctImmigRecent: percentage of _immigrants_ who immigated within last 3 years (numeric - decimal)\\r\\n  -- PctImmigRec5: percentage of _immigrants_ who immigated within last 5 years (numeric - decimal)\\r\\n  -- PctImmigRec8: percentage of _immigrants_ who immigated within last 8 years (numeric - decimal)\\r\\n  -- PctImmigRec10: percentage of _immigrants_ who immigated within last 10 years (numeric - decimal)\\r\\n  -- PctRecentImmig: percent of _population_ who have immigrated within the last 3 years (numeric - decimal)\\r\\n  -- PctRecImmig5: percent of _population_ who have immigrated within the last 5 years (numeric - decimal)\\r\\n  -- PctRecImmig8: percent of _population_ who have immigrated within the last 8 years (numeric - decimal)\\r\\n  -- PctRecImmig10: percent of _population_ who have immigrated within the last 10 years (numeric - decimal)\\r\\n  -- PctSpeakEnglOnly: percent of people who speak only English (numeric - decimal)\\r\\n  -- PctNotSpeakEnglWell: percent of people who do not speak English well (numeric - decimal)\\r\\n  -- PctLargHouseFam: percent of family households that are large (6 or more) (numeric - decimal)\\r\\n  -- PctLargHouseOccup: percent of all occupied households that are large (6 or more people) (numeric - decimal)\\r\\n  -- PersPerOccupHous: mean persons per household (numeric - decimal)\\r\\n  -- PersPerOwnOccHous: mean persons per owner occupied household (numeric - decimal)\\r\\n  -- PersPerRentOccHous: mean persons per rental household (numeric - decimal)\\r\\n  -- PctPersOwnOccup: percent of people in owner occupied households (numeric - decimal)\\r\\n  -- PctPersDenseHous: percent of persons in dense housing (more than 1 person per room) (numeric - decimal)\\r\\n  -- PctHousLess3BR: percent of housing units with less than 3 bedrooms (numeric - decimal)\\r\\n  -- MedNumBR: median number of bedrooms (numeric - decimal)\\r\\n  -- HousVacant: number of vacant households (numeric - decimal)\\r\\n  -- PctHousOccup: percent of housing occupied (numeric - decimal)\\r\\n  -- PctHousOwnOcc: percent of households owner occupied (numeric - decimal)\\r\\n  -- PctVacantBoarded: percent of vacant housing that is boarded up (numeric - decimal)\\r\\n  -- PctVacMore6Mos: percent of vacant housing that has been vacant more than 6 months (numeric - decimal)\\r\\n  -- MedYrHousBuilt: median year housing units built (numeric - decimal)\\r\\n  -- PctHousNoPhone: percent of occupied housing units without phone (in 1990, this was rare!) (numeric - decimal)\\r\\n  -- PctWOFullPlumb: percent of housing without complete plumbing facilities (numeric - decimal)\\r\\n  -- OwnOccLowQuart: owner occupied housing - lower quartile value (numeric - decimal)\\r\\n  -- OwnOccMedVal: owner occupied housing - median value (numeric - decimal)\\r\\n  -- OwnOccHiQuart: owner occupied housing - upper quartile value (numeric - decimal)\\r\\n  -- RentLowQ: rental housing - lower quartile rent (numeric - decimal)\\r\\n  -- RentMedian: rental housing - median rent (Census variable H32B from file STF1A) (numeric - decimal)\\r\\n  -- RentHighQ: rental housing - upper quartile rent (numeric - decimal)\\r\\n  -- MedRent: median gross rent (Census variable H43A from file STF3A - includes utilities) (numeric - decimal)\\r\\n  -- MedRentPctHousInc: median gross rent as a percentage of household income (numeric - decimal)\\r\\n  -- MedOwnCostPctInc: median owners cost as a percentage of household income - for owners with a mortgage (numeric - decimal)\\r\\n  -- MedOwnCostPctIncNoMtg: median owners cost as a percentage of household income - for owners without a mortgage (numeric - decimal)\\r\\n  -- NumInShelters: number of people in homeless shelters (numeric - decimal)\\r\\n  -- NumStreet: number of homeless people counted in the street (numeric - decimal)\\r\\n  -- PctForeignBorn: percent of people foreign born (numeric - decimal)\\r\\n  -- PctBornSameState: percent of people born in the same state as currently living (numeric - decimal)\\r\\n  -- PctSameHouse85: percent of people living in the same house as in 1985 (5 years before) (numeric - decimal)\\r\\n  -- PctSameCity85: percent of people living in the same city as in 1985 (5 years before) (numeric - decimal)\\r\\n  -- PctSameState85: percent of people living in the same state as in 1985 (5 years before) (numeric - decimal)\\r\\n  -- LemasSwornFT: number of sworn full time police officers (numeric - decimal)\\r\\n  -- LemasSwFTPerPop: sworn full time police officers per 100K population (numeric - decimal)\\r\\n  -- LemasSwFTFieldOps: number of sworn full time police officers in field operations (on the street as opposed to administrative etc) (numeric - decimal)\\r\\n  -- LemasSwFTFieldPerPop: sworn full time police officers in field operations (on the street as opposed to administrative etc) per 100K population (numeric - decimal)\\r\\n  -- LemasTotalReq: total requests for police (numeric - decimal)\\r\\n  -- LemasTotReqPerPop: total requests for police per 100K popuation (numeric - decimal)\\r\\n  -- PolicReqPerOffic: total requests for police per police officer (numeric - decimal)\\r\\n  -- PolicPerPop: police officers per 100K population (numeric - decimal)\\r\\n  -- RacialMatchCommPol: a measure of the racial match between the community and the police force. High values indicate proportions in community and police force are similar (numeric - decimal)\\r\\n  -- PctPolicWhite: percent of police that are caucasian (numeric - decimal)\\r\\n  -- PctPolicBlack: percent of police that are african american (numeric - decimal)\\r\\n  -- PctPolicHisp: percent of police that are hispanic (numeric - decimal)\\r\\n  -- PctPolicAsian: percent of police that are asian (numeric - decimal)\\r\\n  -- PctPolicMinor: percent of police that are minority of any kind (numeric - decimal)\\r\\n  -- OfficAssgnDrugUnits: number of officers assigned to special drug units (numeric - decimal)\\r\\n  -- NumKindsDrugsSeiz: number of different kinds of drugs seized (numeric - decimal)\\r\\n  -- PolicAveOTWorked: police average overtime worked (numeric - decimal)\\r\\n  -- LandArea: land area in square miles (numeric - decimal)\\r\\n  -- PopDens: population density in persons per square mile (numeric - decimal)\\r\\n  -- PctUsePubTrans: percent of people using public transit for commuting (numeric - decimal)\\r\\n  -- PolicCars: number of police cars (numeric - decimal)\\r\\n  -- PolicOperBudg: police operating budget (numeric - decimal)\\r\\n  -- LemasPctPolicOnPatr: percent of sworn full time police officers on patrol (numeric - decimal)\\r\\n  -- LemasGangUnitDeploy: gang unit deployed (numeric - decimal - but really ordinal - 0 means NO, 1 means YES,  0.5 means Part Time)\\r\\n  -- LemasPctOfficDrugUn: percent of officers assigned to drug units (numeric - decimal)\\r\\n  -- PolicBudgPerPop: police operating budget per population (numeric - decimal)\\r\\n  -- ViolentCrimesPerPop: total number of violent crimes per 100K popuation (numeric - decimal) GOAL attribute (to be predicted)\\r\\n\\r\\nSummary Statistics:\\r\\n\\t\\t\\tMin\\tMax\\t Mean\\t SD\\tCorrel\\tMedian\\t Mode\\tMissing\\r\\npopulation\\t\\t0\\t1\\t 0.06\\t 0.13\\t 0.37\\t 0.02\\t 0.01\\t0\\r\\nhouseholdsize\\t\\t0\\t1\\t 0.46\\t 0.16\\t-0.03\\t 0.44\\t 0.41\\t0\\r\\nracepctblack\\t\\t0\\t1\\t 0.18\\t 0.25\\t 0.63\\t 0.06\\t 0.01\\t0\\r\\nracePctWhite\\t\\t0\\t1\\t 0.75\\t 0.24\\t-0.68\\t 0.85\\t 0.98\\t0\\r\\nracePctAsian\\t\\t0\\t1\\t 0.15\\t 0.21\\t 0.04\\t 0.07\\t 0.02\\t0\\r\\nracePctHisp\\t\\t0\\t1\\t 0.14\\t 0.23\\t 0.29\\t 0.04\\t 0.01\\t0\\r\\nagePct12t21\\t\\t0\\t1\\t 0.42\\t 0.16\\t 0.06\\t 0.4\\t 0.38\\t0\\r\\nagePct12t29\\t\\t0\\t1\\t 0.49\\t 0.14\\t 0.15\\t 0.48\\t 0.49\\t0\\r\\nagePct16t24\\t\\t0\\t1\\t 0.34\\t 0.17\\t 0.10\\t 0.29\\t 0.29\\t0\\r\\nagePct65up\\t\\t0\\t1\\t 0.42\\t 0.18\\t 0.07\\t 0.42\\t 0.47\\t0\\r\\nnumbUrban\\t\\t0\\t1\\t 0.06\\t 0.13\\t 0.36\\t 0.03\\t 0\\t0\\r\\npctUrban\\t\\t0\\t1\\t 0.70\\t 0.44\\t 0.08\\t 1\\t 1\\t0\\r\\nmedIncome\\t\\t0\\t1\\t 0.36\\t 0.21\\t-0.42\\t 0.32\\t 0.23\\t0\\r\\npctWWage\\t\\t0\\t1\\t 0.56\\t 0.18\\t-0.31\\t 0.56\\t 0.58\\t0\\r\\npctWFarmSelf\\t\\t0\\t1\\t 0.29\\t 0.20\\t-0.15\\t 0.23\\t 0.16\\t0\\r\\npctWInvInc\\t\\t0\\t1\\t 0.50\\t 0.18\\t-0.58\\t 0.48\\t 0.41\\t0\\r\\npctWSocSec\\t\\t0\\t1\\t 0.47\\t 0.17\\t 0.12\\t 0.475\\t 0.56\\t0\\r\\npctWPubAsst\\t\\t0\\t1\\t 0.32\\t 0.22\\t 0.57\\t 0.26\\t 0.1\\t0\\r\\npctWRetire\\t\\t0\\t1\\t 0.48\\t 0.17\\t-0.10\\t 0.47\\t 0.44\\t0\\r\\nmedFamInc\\t\\t0\\t1\\t 0.38\\t 0.20\\t-0.44\\t 0.33\\t 0.25\\t0\\r\\nperCapInc\\t\\t0\\t1\\t 0.35\\t 0.19\\t-0.35\\t 0.3\\t 0.23\\t0\\r\\nwhitePerCap\\t\\t0\\t1\\t 0.37\\t 0.19\\t-0.21\\t 0.32\\t 0.3\\t0\\r\\nblackPerCap\\t\\t0\\t1\\t 0.29\\t 0.17\\t-0.28\\t 0.25\\t 0.18\\t0\\r\\nindianPerCap\\t\\t0\\t1\\t 0.20\\t 0.16\\t-0.09\\t 0.17\\t 0\\t0\\r\\nAsianPerCap\\t\\t0\\t1\\t 0.32\\t 0.20\\t-0.16\\t 0.28\\t 0.18\\t0\\r\\nOtherPerCap\\t\\t0\\t1\\t 0.28\\t 0.19\\t-0.13\\t 0.25\\t 0\\t1\\r\\nHispPerCap\\t\\t0\\t1\\t 0.39\\t 0.18\\t-0.24\\t 0.345\\t 0.3\\t0\\r\\nNumUnderPov\\t\\t0\\t1\\t 0.06\\t 0.13\\t 0.45\\t 0.02\\t 0.01\\t0\\r\\nPctPopUnderPov\\t\\t0\\t1\\t 0.30\\t 0.23\\t 0.52\\t 0.25\\t 0.08\\t0\\r\\nPctLess9thGrade\\t\\t0\\t1\\t 0.32\\t 0.21\\t 0.41\\t 0.27\\t 0.19\\t0\\r\\nPctNotHSGrad\\t\\t0\\t1\\t 0.38\\t 0.20\\t 0.48\\t 0.36\\t 0.39\\t0\\r\\nPctBSorMore\\t\\t0\\t1\\t 0.36\\t 0.21\\t-0.31\\t 0.31\\t 0.18\\t0\\r\\nPctUnemployed\\t\\t0\\t1\\t 0.36\\t 0.20\\t 0.50\\t 0.32\\t 0.24\\t0\\r\\nPctEmploy\\t\\t0\\t1\\t 0.50\\t 0.17\\t-0.33\\t 0.51\\t 0.56\\t0\\r\\nPctEmplManu\\t\\t0\\t1\\t 0.40\\t 0.20\\t-0.04\\t 0.37\\t 0.26\\t0\\r\\nPctEmplProfServ\\t\\t0\\t1\\t 0.44\\t 0.18\\t-0.07\\t 0.41\\t 0.36\\t0\\r\\nPctOccupManu\\t\\t0\\t1\\t 0.39\\t 0.20\\t 0.30\\t 0.37\\t 0.32\\t0\\r\\nPctOccupMgmtProf\\t0\\t1\\t 0.44\\t 0.19\\t-0.34\\t 0.4\\t 0.36\\t0\\r\\nMalePctDivorce\\t\\t0\\t1\\t 0.46\\t 0.18\\t 0.53\\t 0.47\\t 0.56\\t0\\r\\nMalePctNevMarr\\t\\t0\\t1\\t 0.43\\t 0.18\\t 0.30\\t 0.4\\t 0.38\\t0\\r\\nFemalePctDiv\\t\\t0\\t1\\t 0.49\\t 0.18\\t 0.56\\t 0.5\\t 0.54\\t0\\r\\nTotalPctDiv\\t\\t0\\t1\\t 0.49\\t 0.18\\t 0.55\\t 0.5\\t 0.57\\t0\\r\\nPersPerFam\\t\\t0\\t1\\t 0.49\\t 0.15\\t 0.14\\t 0.47\\t 0.44\\t0\\r\\nPctFam2Par\\t\\t0\\t1\\t 0.61\\t 0.20\\t-0.71\\t 0.63\\t 0.7\\t0\\r\\nPctKids2Par\\t\\t0\\t1\\t 0.62\\t 0.21\\t-0.74\\t 0.64\\t 0.72\\t0\\r\\nPctYoungKids2Par\\t0\\t1\\t 0.66\\t 0.22\\t-0.67\\t 0.7\\t 0.91\\t0\\r\\nPctTeen2Par\\t\\t0\\t1\\t 0.58\\t 0.19\\t-0.66\\t 0.61\\t 0.6\\t0\\r\\nPctWorkMomYoungKids\\t0\\t1\\t 0.50\\t 0.17\\t-0.02\\t 0.51\\t 0.51\\t0\\r\\nPctWorkMom\\t\\t0\\t1\\t 0.53\\t 0.18\\t-0.15\\t 0.54\\t 0.57\\t0\\r\\nNumIlleg\\t\\t0\\t1\\t 0.04\\t 0.11\\t 0.47\\t 0.01\\t 0\\t0\\r\\nPctIlleg\\t\\t0\\t1\\t 0.25\\t 0.23\\t 0.74\\t 0.17\\t 0.09\\t0\\r\\nNumImmig\\t\\t0\\t1\\t 0.03\\t 0.09\\t 0.29\\t 0.01\\t 0\\t0\\r\\nPctImmigRecent\\t\\t0\\t1\\t 0.32\\t 0.22\\t 0.17\\t 0.29\\t 0\\t0\\r\\nPctImmigRec5\\t\\t0\\t1\\t 0.36\\t 0.21\\t 0.22\\t 0.34\\t 0\\t0\\r\\nPctImmigRec8\\t\\t0\\t1\\t 0.40\\t 0.20\\t 0.25\\t 0.39\\t 0.26\\t0\\r\\nPctImmigRec10\\t\\t0\\t1\\t 0.43\\t 0.19\\t 0.29\\t 0.43\\t 0.43\\t0\\r\\nPctRecentImmig\\t\\t0\\t1\\t 0.18\\t 0.24\\t 0.23\\t 0.09\\t 0.01\\t0\\r\\nPctRecImmig5\\t\\t0\\t1\\t 0.18\\t 0.24\\t 0.25\\t 0.08\\t 0.02\\t0\\r\\nPctRecImmig8\\t\\t0\\t1\\t 0.18\\t 0.24\\t 0.25\\t 0.09\\t 0.02\\t0\\r\\nPctRecImmig10\\t\\t0\\t1\\t 0.18\\t 0.23\\t 0.26\\t 0.09\\t 0.02\\t0\\r\\nPctSpeakEnglOnly\\t0\\t1\\t 0.79\\t 0.23\\t-0.24\\t 0.87\\t 0.96\\t0\\r\\nPctNotSpeakEnglWell\\t0\\t1\\t 0.15\\t 0.22\\t 0.30\\t 0.06\\t 0.03\\t0\\r\\nPctLargHouseFam\\t\\t0\\t1\\t 0.27\\t 0.20\\t 0.38\\t 0.2\\t 0.17\\t0\\r\\nPctLargHouseOccup\\t0\\t1\\t 0.25\\t 0.19\\t 0.29\\t 0.19\\t 0.19\\t0\\r\\nPersPerOccupHous\\t0\\t1\\t 0.46\\t 0.17\\t-0.04\\t 0.44\\t 0.37\\t0\\r\\nPersPerOwnOccHous\\t0\\t1\\t 0.49\\t 0.16\\t-0.12\\t 0.48\\t 0.45\\t0\\r\\nPersPerRentOccHous\\t0\\t1\\t 0.40\\t 0.19\\t 0.25\\t 0.36\\t 0.32\\t0\\r\\nPctPersOwnOccup\\t\\t0\\t1\\t 0.56\\t 0.20\\t-0.53\\t 0.56\\t 0.54\\t0\\r\\nPctPersDenseHous\\t0\\t1\\t 0.19\\t 0.21\\t 0.45\\t 0.11\\t 0.06\\t0\\r\\nPctHousLess3BR\\t\\t0\\t1\\t 0.50\\t 0.17\\t 0.47\\t 0.51\\t 0.53\\t0\\r\\nMedNumBR\\t\\t0\\t1\\t 0.31\\t 0.26\\t-0.36\\t 0.5\\t 0.5\\t0\\r\\nHousVacant\\t\\t0\\t1\\t 0.08\\t 0.15\\t 0.42\\t 0.03\\t 0.01\\t0\\r\\nPctHousOccup\\t\\t0\\t1\\t 0.72\\t 0.19\\t-0.32\\t 0.77\\t 0.88\\t0\\r\\nPctHousOwnOcc\\t\\t0\\t1\\t 0.55\\t 0.19\\t-0.47\\t 0.54\\t 0.52\\t0\\r\\nPctVacantBoarded\\t0\\t1\\t 0.20\\t 0.22\\t 0.48\\t 0.13\\t 0\\t0\\r\\nPctVacMore6Mos\\t\\t0\\t1\\t 0.43\\t 0.19\\t 0.02\\t 0.42\\t 0.44\\t0\\r\\nMedYrHousBuilt\\t\\t0\\t1\\t 0.49\\t 0.23\\t-0.11\\t 0.52\\t 0\\t0\\r\\nPctHousNoPhone\\t\\t0\\t1\\t 0.26\\t 0.24\\t 0.49\\t 0.185\\t 0.01\\t0\\r\\nPctWOFullPlumb\\t\\t0\\t1\\t 0.24\\t 0.21\\t 0.36\\t 0.19\\t 0\\t0\\r\\nOwnOccLowQuart\\t\\t0\\t1\\t 0.26\\t 0.22\\t-0.21\\t 0.18\\t 0.09\\t0\\r\\nOwnOccMedVal\\t\\t0\\t1\\t 0.26\\t 0.23\\t-0.19\\t 0.17\\t 0.08\\t0\\r\\nOwnOccHiQuart\\t\\t0\\t1\\t 0.27\\t 0.24\\t-0.17\\t 0.18\\t 0.08\\t0\\r\\nRentLowQ\\t\\t0\\t1\\t 0.35\\t 0.22\\t-0.25\\t 0.31\\t 0.13\\t0\\r\\nRentMedian\\t\\t0\\t1\\t 0.37\\t 0.21\\t-0.24\\t 0.33\\t 0.19\\t0\\r\\nRentHighQ\\t\\t0\\t1\\t 0.42\\t 0.25\\t-0.23\\t 0.37\\t 1\\t0\\r\\nMedRent\\t\\t\\t0\\t1\\t 0.38\\t 0.21\\t-0.24\\t 0.34\\t 0.17\\t0\\r\\nMedRentPctHousInc\\t0\\t1\\t 0.49\\t 0.17\\t 0.33\\t 0.48\\t 0.4\\t0\\r\\nMedOwnCostPctInc\\t0\\t1\\t 0.45\\t 0.19\\t 0.06\\t 0.45\\t 0.41\\t0\\r\\nMedOwnCostPctIncNoMtg\\t0\\t1\\t 0.40\\t 0.19\\t 0.05\\t 0.37\\t 0.24\\t0\\r\\nNumInShelters\\t\\t0\\t1\\t 0.03\\t 0.10\\t 0.38\\t 0\\t 0\\t0\\r\\nNumStreet\\t\\t0\\t1\\t 0.02\\t 0.10\\t 0.34\\t 0\\t 0\\t0\\r\\nPctForeignBorn\\t\\t0\\t1\\t 0.22\\t 0.23\\t 0.19\\t 0.13\\t 0.03\\t0\\r\\nPctBornSameState\\t0\\t1\\t 0.61\\t 0.20\\t-0.08\\t 0.63\\t 0.78\\t0\\r\\nPctSameHouse85\\t\\t0\\t1\\t 0.54\\t 0.18\\t-0.16\\t 0.54\\t 0.59\\t0\\r\\nPctSameCity85\\t\\t0\\t1\\t 0.63\\t 0.20\\t 0.08\\t 0.67\\t 0.74\\t0\\r\\nPctSameState85\\t\\t0\\t1\\t 0.65\\t 0.20\\t-0.02\\t 0.7\\t 0.79\\t0\\r\\nLemasSwornFT\\t\\t0\\t1\\t 0.07\\t 0.14\\t 0.34\\t 0.02\\t 0.02\\t1675\\r\\nLemasSwFTPerPop\\t\\t0\\t1\\t 0.22\\t 0.16\\t 0.15\\t 0.18\\t 0.2\\t1675\\r\\nLemasSwFTFieldOps\\t0\\t1\\t 0.92\\t 0.13\\t-0.33\\t 0.97\\t 0.98\\t1675\\r\\nLemasSwFTFieldPerPop\\t0\\t1\\t 0.25\\t 0.16\\t 0.16\\t 0.21\\t 0.19\\t1675\\r\\nLemasTotalReq\\t\\t0\\t1\\t 0.10\\t 0.16\\t 0.35\\t 0.04\\t 0.02\\t1675\\r\\nLemasTotReqPerPop\\t0\\t1\\t 0.22\\t 0.16\\t 0.27\\t 0.17\\t 0.14\\t1675\\r\\nPolicReqPerOffic\\t0\\t1\\t 0.34\\t 0.20\\t 0.17\\t 0.29\\t 0.23\\t1675\\r\\nPolicPerPop\\t\\t0\\t1\\t 0.22\\t 0.16\\t 0.15\\t 0.18\\t 0.2\\t1675\\r\\nRacialMatchCommPol\\t0\\t1\\t 0.69\\t 0.23\\t-0.46\\t 0.74\\t 0.78\\t1675\\r\\nPctPolicWhite\\t\\t0\\t1\\t 0.73\\t 0.22\\t-0.44\\t 0.78\\t 0.72\\t1675\\r\\nPctPolicBlack\\t\\t0\\t1\\t 0.22\\t 0.24\\t 0.54\\t 0.12\\t 0\\t1675\\r\\nPctPolicHisp\\t\\t0\\t1\\t 0.13\\t 0.20\\t 0.12\\t 0.06\\t 0\\t1675\\r\\nPctPolicAsian\\t\\t0\\t1\\t 0.11\\t 0.23\\t 0.10\\t 0\\t 0\\t1675\\r\\nPctPolicMinor\\t\\t0\\t1\\t 0.26\\t 0.23\\t 0.49\\t 0.2\\t 0.07\\t1675\\r\\nOfficAssgnDrugUnits\\t0\\t1\\t 0.08\\t 0.12\\t 0.34\\t 0.04\\t 0.03\\t1675\\r\\nNumKindsDrugsSeiz\\t0\\t1\\t 0.56\\t 0.20\\t 0.13\\t 0.57\\t 0.57\\t1675\\r\\nPolicAveOTWorked\\t0\\t1\\t 0.31\\t 0.23\\t 0.03\\t 0.26\\t 0.19\\t1675\\r\\nLandArea\\t\\t0\\t1\\t 0.07\\t 0.11\\t 0.20\\t 0.04\\t 0.01\\t0\\r\\nPopDens\\t\\t\\t0\\t1\\t 0.23\\t 0.20\\t 0.28\\t 0.17\\t 0.09\\t0\\r\\nPctUsePubTrans\\t\\t0\\t1\\t 0.16\\t 0.23\\t 0.15\\t 0.07\\t 0.01\\t0\\r\\nPolicCars\\t\\t0\\t1\\t 0.16\\t 0.21\\t 0.38\\t 0.08\\t 0.02\\t1675\\r\\nPolicOperBudg\\t\\t0\\t1\\t 0.08\\t 0.14\\t 0.34\\t 0.03\\t 0.02\\t1675\\r\\nLemasPctPolicOnPatr\\t0\\t1\\t 0.70\\t 0.21\\t-0.08\\t 0.75\\t 0.74\\t1675\\r\\nLemasGangUnitDeploy\\t0\\t1\\t 0.44\\t 0.41\\t 0.12\\t 0.5\\t 0\\t1675\\r\\nLemasPctOfficDrugUn\\t0\\t1\\t 0.09\\t 0.24\\t 0.35\\t 0\\t 0\\t0\\r\\nPolicBudgPerPop\\t\\t0\\t1\\t 0.20\\t 0.16\\t 0.10\\t 0.15\\t 0.12\\t1675\\r\\nViolentCrimesPerPop\\t0\\t1\\t 0.24\\t 0.23\\t 1.00\\t 0.15\\t 0.03\\t0\\r\\n\\r\\nDistribution of the Goal Variable (Violent Crimes per Population):\\r\\n   Range\\tFrequency\\r\\n0.000-0.067\\t484\\r\\n0.067-0.133\\t420\\r\\n0.133-0.200\\t284\\r\\n0.200-0.267\\t177\\r\\n0.267-0.333\\t142\\r\\n0.333-0.400\\t113\\r\\n0.400-0.467\\t 59\\r\\n0.467-0.533\\t 76\\r\\n0.533-0.600\\t 57\\r\\n0.600-0.667\\t 38\\r\\n0.667-0.733\\t 37\\r\\n0.733-0.800\\t 20\\r\\n0.800-0.867\\t 23\\r\\n0.867-0.933\\t 14\\r\\n0.933-1.000\\t 50\\r\\n\", 'citation': None}}\n",
            "                    name     role         type demographic description units  \\\n",
            "0                  state  Feature      Integer        None        None  None   \n",
            "1                 county  Feature      Integer        None        None  None   \n",
            "2              community  Feature      Integer        None        None  None   \n",
            "3          communityname  Feature  Categorical        None        None  None   \n",
            "4                   fold  Feature      Integer        None        None  None   \n",
            "..                   ...      ...          ...         ...         ...   ...   \n",
            "123  LemasPctPolicOnPatr  Feature   Continuous        None        None  None   \n",
            "124  LemasGangUnitDeploy  Feature      Integer        None        None  None   \n",
            "125  LemasPctOfficDrugUn  Feature      Integer        None        None  None   \n",
            "126      PolicBudgPerPop  Feature      Integer        None        None  None   \n",
            "127  ViolentCrimesPerPop   Target   Continuous        None        None  None   \n",
            "\n",
            "    missing_values  \n",
            "0               no  \n",
            "1              yes  \n",
            "2              yes  \n",
            "3               no  \n",
            "4               no  \n",
            "..             ...  \n",
            "123            yes  \n",
            "124            yes  \n",
            "125             no  \n",
            "126            yes  \n",
            "127             no  \n",
            "\n",
            "[128 rows x 7 columns]\n"
          ]
        }
      ]
    },
    {
      "cell_type": "markdown",
      "source": [
        "Pré-processamento dos dados, treinamento de um modelo de regressão linear e avaliação do modelo."
      ],
      "metadata": {
        "id": "RuwnlsE0mqh0"
      }
    },
    {
      "cell_type": "code",
      "source": [
        "import pandas as pd\n",
        "from sklearn.model_selection import train_test_split\n",
        "from sklearn.linear_model import LinearRegression\n",
        "from sklearn.metrics import mean_squared_error\n",
        "from sklearn.impute import SimpleImputer\n",
        "\n",
        "# Concatenar as variáveis independentes e a variável alvo\n",
        "df = pd.concat([X, y], axis=1)\n",
        "\n",
        "# Identificar as colunas com valores faltantes\n",
        "colunas_com_faltantes = df.columns[df.isnull().any()].tolist()\n",
        "\n",
        "# Estratégias para lidar com valores faltantes (escolha uma ou combine):\n",
        "\n",
        "# 1. Remover linhas com valores faltantes (simples, mas perde dados)\n",
        "# df_limpo = df.dropna()\n",
        "\n",
        "# 2. Imputação usando a média para variáveis numéricas\n",
        "colunas_numericas = df.select_dtypes(include=['number']).columns\n",
        "imputador = SimpleImputer(strategy='mean')  # Usar média, mediana ou mais_frequente\n",
        "df[colunas_numericas] = imputador.fit_transform(df[colunas_numericas])\n",
        "\n",
        "# Separar variáveis independentes (X) e variável alvo (y) após lidar com dados faltantes\n",
        "X = df.drop('ViolentCrimesPerPop', axis=1)\n",
        "y = df['ViolentCrimesPerPop']\n",
        "\n",
        "# Converter colunas não numéricas para numéricas (usando codificação one-hot)\n",
        "X = pd.get_dummies(X, columns=X.select_dtypes(include=['object']).columns)\n",
        "\n",
        "# Dividir os dados em conjuntos de treinamento e teste\n",
        "X_treino, X_teste, y_treino, y_teste = train_test_split(X, y, test_size=0.3, random_state=42)\n",
        "\n",
        "# Inicializar e treinar o modelo de regressão linear\n",
        "modelo = LinearRegression()\n",
        "modelo.fit(X_treino, y_treino)\n",
        "\n",
        "# Fazer previsões no conjunto de teste\n",
        "y_predito = modelo.predict(X_teste)\n",
        "\n",
        "# Avaliar o modelo\n",
        "mse = mean_squared_error(y_teste, y_predito)\n",
        "print(f\"MSE: {mse}\")\n"
      ],
      "metadata": {
        "collapsed": true,
        "id": "L6kgtEsGZ9l_",
        "colab": {
          "base_uri": "https://localhost:8080/"
        },
        "outputId": "917b2e3b-afa5-4da0-938c-1278099341cb"
      },
      "execution_count": 28,
      "outputs": [
        {
          "output_type": "stream",
          "name": "stdout",
          "text": [
            "MSE: 0.04115934097282996\n"
          ]
        }
      ]
    },
    {
      "cell_type": "markdown",
      "source": [
        "Calculo das métricas RMSE e MAE para avaliar a performance do modelo de regressão linear."
      ],
      "metadata": {
        "id": "vBzcASONnKQU"
      }
    },
    {
      "cell_type": "code",
      "source": [
        "from sklearn.metrics import mean_absolute_error\n",
        "\n",
        "# Prever no conjunto de treinamento\n",
        "y_treino_pred = modelo.predict(X_treino)\n",
        "\n",
        "# Calcular RMSE e MAE para o conjunto de treinamento\n",
        "rmse_treino = mean_squared_error(y_treino, y_treino_pred, squared=False)  # squared=False para RMSE\n",
        "mae_treino = mean_absolute_error(y_treino, y_treino_pred)\n",
        "\n",
        "print(f\"RMSE do Treinamento: {rmse_treino}\")\n",
        "print(f\"MAE do Treinamento: {mae_treino}\")\n",
        "\n",
        "# Calcular RMSE e MAE para o conjunto de teste (MSE já calculado acima)\n",
        "rmse_teste = mean_squared_error(y_teste, y_predito, squared=False)\n",
        "mae_teste = mean_absolute_error(y_teste, y_predito)\n",
        "\n",
        "print(f\"RMSE do Teste: {rmse_teste}\")\n",
        "print(f\"MAE do Teste: {mae_teste}\")\n"
      ],
      "metadata": {
        "id": "5dFpUlzRcd96",
        "colab": {
          "base_uri": "https://localhost:8080/"
        },
        "outputId": "363fef14-0e90-4711-b487-5bb4cedd478a"
      },
      "execution_count": 29,
      "outputs": [
        {
          "output_type": "stream",
          "name": "stdout",
          "text": [
            "RMSE do Treinamento: 3.631509133398197e-14\n",
            "MAE do Treinamento: 2.6853674849292657e-14\n",
            "RMSE do Teste: 0.20287765025460533\n",
            "MAE do Teste: 0.15225020423361518\n"
          ]
        },
        {
          "output_type": "stream",
          "name": "stderr",
          "text": [
            "/usr/local/lib/python3.10/dist-packages/sklearn/metrics/_regression.py:492: FutureWarning: 'squared' is deprecated in version 1.4 and will be removed in 1.6. To calculate the root mean squared error, use the function'root_mean_squared_error'.\n",
            "  warnings.warn(\n",
            "/usr/local/lib/python3.10/dist-packages/sklearn/metrics/_regression.py:492: FutureWarning: 'squared' is deprecated in version 1.4 and will be removed in 1.6. To calculate the root mean squared error, use the function'root_mean_squared_error'.\n",
            "  warnings.warn(\n"
          ]
        }
      ]
    },
    {
      "cell_type": "markdown",
      "source": [
        "Aplicação do PCA"
      ],
      "metadata": {
        "id": "7uaHWC8wnbna"
      }
    },
    {
      "cell_type": "code",
      "source": [
        "import matplotlib.pyplot as plt\n",
        "from sklearn.decomposition import PCA\n",
        "from sklearn.preprocessing import StandardScaler\n",
        "from sklearn.metrics import mean_absolute_error\n",
        "from sklearn.preprocessing import PolynomialFeatures\n",
        "\n",
        "# Normalização das variáveis\n",
        "escalador = StandardScaler()\n",
        "X_treino_escalado = escalador.fit_transform(X_treino)\n",
        "X_teste_escalado = escalador.transform(X_teste)\n",
        "\n",
        "# Aplicar PCA\n",
        "pca = PCA(n_components=5)\n",
        "X_treino_pca = pca.fit_transform(X_treino_escalado)\n",
        "X_teste_pca = pca.transform(X_teste_escalado)\n",
        "\n",
        "# Razão da variância explicada\n",
        "variancia_explicada = pca.explained_variance_ratio_\n",
        "print(f\"Razão da Variância Explicada: {variancia_explicada}\")\n",
        "\n",
        "# Plotar a variância explicada\n",
        "plt.figure(figsize=(8, 6))\n",
        "plt.plot(range(1, 6), variancia_explicada.cumsum(), marker='o', linestyle='--')\n",
        "plt.xlabel('Número de Componentes')\n",
        "plt.ylabel('Variância Explicada Cumulativa')\n",
        "plt.title('Variância Explicada pelos Componentes')\n",
        "plt.grid(True)\n",
        "plt.show()\n",
        "\n",
        "# Treinar o modelo de regressão linear com PCA\n",
        "modelo_pca = LinearRegression()\n",
        "modelo_pca.fit(X_treino_pca, y_treino)\n",
        "\n",
        "# Previsões e avaliação\n",
        "y_pred_treino_pca = modelo_pca.predict(X_treino_pca)\n",
        "y_pred_teste_pca = modelo_pca.predict(X_teste_pca)\n",
        "\n",
        "rmse_treino_pca = mean_squared_error(y_treino, y_pred_treino_pca, squared=False)\n",
        "mae_treino_pca = mean_absolute_error(y_treino, y_pred_treino_pca)\n",
        "rmse_teste_pca = mean_squared_error(y_teste, y_pred_teste_pca, squared=False)\n",
        "mae_teste_pca = mean_absolute_error(y_teste, y_pred_teste_pca)\n",
        "\n",
        "print(f\"PCA - RMSE (Treinamento): {rmse_treino_pca}\")\n",
        "print(f\"PCA - MAE (Treinamento): {mae_treino_pca}\")\n",
        "print(f\"PCA - RMSE (Teste): {rmse_teste_pca}\")\n",
        "print(f\"PCA - MAE (Teste): {mae_teste_pca}\")\n",
        "\n",
        "# Regressão Polinomial\n",
        "polinomio = PolynomialFeatures(degree=2)  # Exemplo com grau 2\n",
        "X_treino_poli = polinomio.fit_transform(X_treino_pca)\n",
        "X_teste_poli = polinomio.transform(X_teste_pca)\n",
        "\n",
        "modelo_poli = LinearRegression()\n",
        "modelo_poli.fit(X_treino_poli, y_treino)\n",
        "y_pred_treino_poli = modelo_poli.predict(X_treino_poli)\n",
        "y_pred_teste_poli = modelo_poli.predict(X_teste_poli)\n",
        "\n",
        "rmse_treino_poli = mean_squared_error(y_treino, y_pred_treino_poli, squared=False)\n",
        "mae_treino_poli = mean_absolute_error(y_treino, y_pred_treino_poli)\n",
        "rmse_teste_poli = mean_squared_error(y_teste, y_pred_teste_poli, squared=False)\n",
        "mae_teste_poli = mean_absolute_error(y_teste, y_pred_teste_poli)\n",
        "\n",
        "print(f\"Regressão Polinomial - RMSE (Treinamento): {rmse_treino_poli}\")\n",
        "print(f\"Regressão Polinomial - MAE (Treinamento): {mae_treino_poli}\")\n",
        "print(f\"Regressão Polinomial - RMSE (Teste): {rmse_teste_poli}\")\n",
        "print(f\"Regressão Polinomial - MAE (Teste): {mae_teste_poli}\")\n"
      ],
      "metadata": {
        "colab": {
          "base_uri": "https://localhost:8080/",
          "height": 896
        },
        "id": "otRWAT6Ib_dM",
        "outputId": "0e90090e-090c-4149-8552-2b137d442c63"
      },
      "execution_count": 30,
      "outputs": [
        {
          "output_type": "stream",
          "name": "stdout",
          "text": [
            "Razão da Variância Explicada: [0.01549441 0.00796321 0.00602183 0.00504009 0.00468312]\n"
          ]
        },
        {
          "output_type": "display_data",
          "data": {
            "text/plain": [
              "<Figure size 800x600 with 1 Axes>"
            ],
            "image/png": "[encoded data removed]"
          },
          "metadata": {}
        },
        {
          "output_type": "stream",
          "name": "stdout",
          "text": [
            "PCA - RMSE (Treinamento): 0.17033635892417368\n",
            "PCA - MAE (Treinamento): 0.12156417874958289\n",
            "PCA - RMSE (Teste): 0.1543374816081\n",
            "PCA - MAE (Teste): 0.11521812277389924\n",
            "Regressão Polinomial - RMSE (Treinamento): 0.15547890820283228\n",
            "Regressão Polinomial - MAE (Treinamento): 0.11067377111437156\n",
            "Regressão Polinomial - RMSE (Teste): 0.14567537480215043\n",
            "Regressão Polinomial - MAE (Teste): 0.1051326661032178\n"
          ]
        },
        {
          "output_type": "stream",
          "name": "stderr",
          "text": [
            "/usr/local/lib/python3.10/dist-packages/sklearn/metrics/_regression.py:492: FutureWarning: 'squared' is deprecated in version 1.4 and will be removed in 1.6. To calculate the root mean squared error, use the function'root_mean_squared_error'.\n",
            "  warnings.warn(\n",
            "/usr/local/lib/python3.10/dist-packages/sklearn/metrics/_regression.py:492: FutureWarning: 'squared' is deprecated in version 1.4 and will be removed in 1.6. To calculate the root mean squared error, use the function'root_mean_squared_error'.\n",
            "  warnings.warn(\n",
            "/usr/local/lib/python3.10/dist-packages/sklearn/metrics/_regression.py:492: FutureWarning: 'squared' is deprecated in version 1.4 and will be removed in 1.6. To calculate the root mean squared error, use the function'root_mean_squared_error'.\n",
            "  warnings.warn(\n",
            "/usr/local/lib/python3.10/dist-packages/sklearn/metrics/_regression.py:492: FutureWarning: 'squared' is deprecated in version 1.4 and will be removed in 1.6. To calculate the root mean squared error, use the function'root_mean_squared_error'.\n",
            "  warnings.warn(\n"
          ]
        }
      ]
    },
    {
      "cell_type": "code",
      "source": [
        "from ucimlrepo import fetch_ucirepo\n",
        "\n",
        "# obter conjunto de dados\n",
        "htru2 = fetch_ucirepo(id=372)\n",
        "\n",
        "# dados (como dataframes do pandas)\n",
        "X = htru2.data.features\n",
        "y = htru2.data.targets\n",
        "\n",
        "# metadados\n",
        "print(htru2.metadata)\n",
        "\n",
        "# informações das variáveis\n",
        "print(htru2.variables)\n"
      ],
      "metadata": {
        "id": "dprbnuadYWJc",
        "colab": {
          "base_uri": "https://localhost:8080/"
        },
        "outputId": "c498c318-e12e-4ed4-b494-b8700ca4e71e"
      },
      "execution_count": 31,
      "outputs": [
        {
          "output_type": "stream",
          "name": "stdout",
          "text": [
            "{'uci_id': 372, 'name': 'HTRU2', 'repository_url': 'https://archive.ics.uci.edu/dataset/372/htru2', 'data_url': 'https://archive.ics.uci.edu/static/public/372/data.csv', 'abstract': 'Pulsar candidates collected during the HTRU survey. Pulsars are a type of star, of considerable scientific interest. Candidates must be classified in to pulsar and non-pulsar classes to aid discovery.', 'area': 'Physics and Chemistry', 'tasks': ['Classification', 'Clustering'], 'characteristics': ['Multivariate'], 'num_instances': 17898, 'num_features': 8, 'feature_types': ['Real'], 'demographics': [], 'target_col': ['class'], 'index_col': None, 'has_missing_values': 'no', 'missing_values_symbol': None, 'year_of_dataset_creation': 2015, 'last_updated': 'Wed Apr 03 2024', 'dataset_doi': '10.24432/C5DK6R', 'creators': ['Robert Lyon'], 'intro_paper': {'ID': 460, 'type': 'NATIVE', 'title': 'Fifty years of pulsar candidate selection: from simple filters to a new principled real-time classification approach', 'authors': 'R. Lyon, B. Stappers, S. Cooper, J. M. Brooke, Joshua D. Knowles', 'venue': 'Monthly notices of the Royal Astronomical Society', 'year': 2016, 'journal': None, 'DOI': '10.1093/mnras/stw656', 'URL': 'https://www.semanticscholar.org/paper/e81657338e48b233c8c6019832e6670fa552adb4', 'sha': None, 'corpus': None, 'arxiv': None, 'mag': None, 'acl': None, 'pmid': None, 'pmcid': None}, 'additional_info': {'summary': \"HTRU2 is a data set which describes a sample of pulsar candidates collected during the High Time Resolution Universe Survey (South) [1]. \\r\\n\\r\\nPulsars are a rare type of Neutron star that produce radio emission detectable here on Earth. They are of considerable scientific interest as probes of space-time, the inter-stellar medium, and states of matter (see [2] for more uses). \\r\\n\\r\\nAs pulsars rotate, their emission beam sweeps across the sky, and when this crosses our line of sight, produces a detectable pattern of broadband radio emission. As pulsars\\r\\nrotate rapidly, this pattern repeats periodically. Thus pulsar search involves looking for periodic radio signals with large radio telescopes.\\r\\n\\r\\nEach pulsar produces a slightly different emission pattern, which varies slightly with each rotation (see [2] for an introduction to pulsar astrophysics to find out why). Thus a  potential signal detection known as a 'candidate', is averaged over many rotations of the pulsar, as determined by the length of an observation. In the absence of additional info, each candidate could potentially describe a real pulsar. However in practice almost all detections are caused by radio frequency interference (RFI) and noise, making legitimate signals hard to find.\\r\\n\\r\\nMachine learning tools are now being used to automatically label pulsar candidates to facilitate rapid analysis. Classification systems in particular are being widely adopted,\\r\\n(see [4,5,6,7,8,9]) which treat the candidate data sets  as binary classification problems. Here the legitimate pulsar examples are a minority positive class, and spurious examples the majority negative class. At present multi-class labels are unavailable, given the costs associated with data annotation.\\r\\n\\r\\nThe data set shared here contains 16,259 spurious examples caused by RFI/noise, and 1,639 real pulsar examples. These examples have all been checked by human annotators. \\r\\n\\r\\nThe data is presented in two formats: CSV and ARFF (used by the WEKA data mining tool). Candidates are stored in both files in separate rows. Each row lists the variables first, and the class label is the final entry. The class labels used are 0 (negative) and 1 (positive).\\r\\n\\r\\nPlease note that the data contains no positional information or other astronomical details. It is simply feature data extracted from candidate files using the PulsarFeatureLab tool (see [10]).\", 'purpose': None, 'funded_by': None, 'instances_represent': None, 'recommended_data_splits': None, 'sensitive_data': None, 'preprocessing_description': None, 'variable_info': 'Each candidate is described by 8 continuous variables, and a single class variable. The first four are simple statistics obtained from the integrated pulse profile (folded profile). This is an array of continuous variables that describe a longitude-resolved version of the signal that has been averaged in both time and frequency (see [3] for more details). The remaining four variables are similarly obtained from the DM-SNR curve (again see [3] for more details). These are summarised below:\\r\\n\\r\\n1. Mean of the integrated profile.\\r\\n2. Standard deviation of the integrated profile.\\r\\n3. Excess kurtosis of the integrated profile.\\r\\n4. Skewness of the integrated profile.\\r\\n5. Mean of the DM-SNR curve.\\r\\n6. Standard deviation of the DM-SNR curve.\\r\\n7. Excess kurtosis of the DM-SNR curve.\\r\\n8. Skewness of the DM-SNR curve.\\r\\n9. Class\\r\\n\\r\\nHTRU 2 Summary\\r\\n17,898 total examples.\\r\\n1,639 positive examples.\\r\\n16,259 negative examples.', 'citation': 'If you use the dataset in your work, please cite us using the following paper:\\n\\nR. J. Lyon, B. W. Stappers, S. Cooper, J. M. Brooke, J. D. Knowles, Fifty Years of Pulsar Candidate Selection: From simple filters to a new principled real-time classification approach, Monthly Notices of the Royal Astronomical Society 459 (1), 1104-1123, DOI: 10.1093/mnras/stw656\\n\\nIf possible, please also cite the DOI of the data set directly:\\n\\nR. J. Lyon, HTRU2, DOI: 10.6084/m9.figshare.3080389.v1.\\n\\nAcknowledgements\\n\\nThis data was obtained with the support of grant EP/I028099/1 for the University of Manchester  Centre for Doctoral Training in Computer Science, from the UK Engineering and Physical Sciences Research Council (EPSRC). The raw observational data was collected by the High Time Resolution Universe Collaboration using the Parkes Observatory, funded by the Commonwealth of Australia and managed by the CSIRO.'}}\n",
            "               name     role        type demographic description units  \\\n",
            "0      Profile_mean  Feature  Continuous        None        None  None   \n",
            "1     Profile_stdev  Feature  Continuous        None        None  None   \n",
            "2  Profile_skewness  Feature  Continuous        None        None  None   \n",
            "3  Profile_kurtosis  Feature  Continuous        None        None  None   \n",
            "4           DM_mean  Feature  Continuous        None        None  None   \n",
            "5          DM_stdev  Feature  Continuous        None        None  None   \n",
            "6       DM_skewness  Feature  Continuous        None        None  None   \n",
            "7       DM_kurtosis  Feature  Continuous        None        None  None   \n",
            "8             class   Target      Binary        None        None  None   \n",
            "\n",
            "  missing_values  \n",
            "0             no  \n",
            "1             no  \n",
            "2             no  \n",
            "3             no  \n",
            "4             no  \n",
            "5             no  \n",
            "6             no  \n",
            "7             no  \n",
            "8             no  \n"
          ]
        }
      ]
    },
    {
      "cell_type": "code",
      "source": [
        "import pandas as pd\n",
        "import numpy as np\n",
        "from sklearn.model_selection import train_test_split\n",
        "from sklearn.neighbors import KNeighborsClassifier\n",
        "from sklearn.metrics import accuracy_score, recall_score, precision_score\n",
        "import time\n",
        "\n",
        "# transformando y em vetor 1D\n",
        "y = np.ravel(y)\n",
        "\n",
        "# lista para armazenar os resultados\n",
        "resultados = []\n",
        "\n",
        "# loop para realizar múltiplas execuções com diferentes valores de random_state\n",
        "for i in range(5):\n",
        "    # dividindo os dados em treino e teste\n",
        "    X_treino, X_teste, y_treino, y_teste = train_test_split(X, y, train_size=6000, random_state=i)\n",
        "\n",
        "    # valores de k para o classificador KNN\n",
        "    valores_k = [3, 5, 7, 9, 11]\n",
        "    for k in valores_k:\n",
        "        # registrando o tempo de início\n",
        "        tempo_inicio = time.time()\n",
        "        # criando o classificador KNN com o valor de k\n",
        "        knn = KNeighborsClassifier(n_neighbors=k, metric='euclidean')\n",
        "\n",
        "        # dividindo os dados de treino para validação\n",
        "        X_treino_split, X_val, y_treino_split, y_val = train_test_split(X_treino, y_treino, test_size=0.5, random_state=i)\n",
        "\n",
        "        # treinando o modelo com os dados de treino\n",
        "        knn.fit(X_treino_split, y_treino_split)\n",
        "        # fazendo a predição nos dados de validação\n",
        "        y_pred_val = knn.predict(X_val)\n",
        "\n",
        "        # treinando o modelo com todos os dados de treino\n",
        "        knn.fit(X_treino, y_treino)\n",
        "        # fazendo a predição nos dados de teste\n",
        "        y_pred_teste = knn.predict(X_teste)\n",
        "\n",
        "        # registrando o tempo de fim\n",
        "        tempo_fim = time.time()\n",
        "\n",
        "        # calculando as métricas de avaliação\n",
        "        acuracia = accuracy_score(y_teste, y_pred_teste)\n",
        "        revocacao = recall_score(y_teste, y_pred_teste)\n",
        "        precisao = precision_score(y_teste, y_pred_teste)\n",
        "\n",
        "        # armazenando os resultados\n",
        "        resultados.append([k, acuracia, revocacao, precisao, tempo_fim - tempo_inicio, len(knn.classes_)])\n",
        "\n",
        "# criando um DataFrame com os resultados\n",
        "resultados_df = pd.DataFrame(resultados, columns=[\"k\", \"Acurácia\", \"Revocação\", \"Precisão\", \"Tempo\", \"Prototipos\"])\n",
        "# exibindo a média dos resultados por valor de k\n",
        "print(resultados_df.groupby('k').mean())\n"
      ],
      "metadata": {
        "colab": {
          "base_uri": "https://localhost:8080/"
        },
        "id": "Fju7IO48Vt0G",
        "outputId": "59f93096-2fdb-45a8-f30b-15580cd27ea8"
      },
      "execution_count": 32,
      "outputs": [
        {
          "output_type": "stream",
          "name": "stdout",
          "text": [
            "    Acurácia  Revocação  Precisão     Tempo  Prototipos\n",
            "k                                                      \n",
            "3   0.971004   0.776225  0.890707  1.975095         2.0\n",
            "5   0.971962   0.769735  0.907675  1.783201         2.0\n",
            "7   0.972802   0.768264  0.919217  1.325606         2.0\n",
            "9   0.972836   0.767516  0.920315  1.196173         2.0\n",
            "11  0.972735   0.765274  0.921341  1.106156         2.0\n"
          ]
        }
      ]
    },
    {
      "cell_type": "code",
      "source": [],
      "metadata": {
        "id": "CFh60KkVqsx_"
      },
      "execution_count": null,
      "outputs": []
    },
    {
      "cell_type": "code",
      "source": [
        "from ucimlrepo import fetch_ucirepo\n",
        "\n",
        "nursery = fetch_ucirepo(id=76)\n",
        "\n",
        "X = nursery.data.features\n",
        "y = nursery.data.targets\n",
        "\n",
        "print(nursery.metadata)\n",
        "\n",
        "print(nursery.variables)\n"
      ],
      "metadata": {
        "id": "lbOm-HIWYfc0"
      },
      "execution_count": null,
      "outputs": []
    },
    {
      "cell_type": "code",
      "source": [
        "import pandas as pd\n",
        "from sklearn.model_selection import train_test_split\n",
        "from sklearn.tree import DecisionTreeClassifier\n",
        "from sklearn.metrics import accuracy_score\n",
        "import random\n",
        "\n",
        "# Assumindo que X e y já estão definidos a partir do código anterior (conjunto de dados Nursery)\n",
        "\n",
        "# Amostrando 10000 pontos de dados para treinamento\n",
        "random.seed(42) # Definindo a semente para reprodutibilidade\n",
        "indices_amostra = random.sample(range(len(X)), 10000)\n",
        "X_treino = X.iloc[indices_amostra]\n",
        "y_treino = y.iloc[indices_amostra]\n",
        "\n",
        "# Dados restantes para teste\n",
        "X_teste = X.drop(index=indices_amostra)\n",
        "y_teste = y.drop(index=indices_amostra)\n",
        "\n",
        "# Converter variáveis categóricas para numéricas usando one-hot encoding\n",
        "X_treino = pd.get_dummies(X_treino, columns=X_treino.select_dtypes(include=['object']).columns)\n",
        "X_teste = pd.get_dummies(X_teste, columns=X_teste.select_dtypes(include=['object']).columns)\n",
        "\n",
        "# Garantir que tanto os conjuntos de treino quanto de teste tenham as mesmas colunas após o one-hot encoding\n",
        "for col in X_treino.columns:\n",
        "    if col not in X_teste.columns:\n",
        "        X_teste[col] = 0\n",
        "for col in X_teste.columns:\n",
        "    if col not in X_treino.columns:\n",
        "        X_treino[col] = 0\n",
        "\n",
        "# Alinhar as colunas para consistência\n",
        "X_treino, X_teste = X_treino.align(X_teste, axis=1, join='inner')\n",
        "\n",
        "# Construir uma árvore de decisão com profundidade máxima=2 (dois níveis de nós de decisão)\n",
        "clf = DecisionTreeClassifier(max_depth=2, criterion='entropy')\n",
        "clf.fit(X_treino, y_treino)\n",
        "\n",
        "# Imprimir a estrutura da árvore (Você pode usar outras bibliotecas de visualização para uma melhor visualização)\n",
        "# print(clf.tree_) # Esta é uma representação de baixo nível, para depuração.\n",
        "\n",
        "# Avaliar o modelo no conjunto de teste\n",
        "y_pred = clf.predict(X_teste)\n",
        "acuracia = accuracy_score(y_teste, y_pred)\n",
        "print(f\"Acurácia: {acuracia}\")\n",
        "\n",
        "# Extrair as regras de decisão (representação simplificada)\n",
        "def obter_regras(árvore, nomes_features, nomes_classes):\n",
        "    regras = []\n",
        "    def percorrer(no, regra_atual):\n",
        "        if árvore.children_left[no] == -1:  # Nó folha\n",
        "            regra = regra_atual + f\" => {nomes_classes[np.argmax(árvore.value[no])]} \"\n",
        "            regras.append(regra)\n",
        "        else:\n",
        "            feature = nomes_features[árvore.feature[no]]\n",
        "            threshold = árvore.threshold[no]\n",
        "            percorrer(árvore.children_left[no], regra_atual + f\"{feature} <= {threshold} e \")\n",
        "            percorrer(árvore.children_right[no], regra_atual + f\"{feature} > {threshold} e \")\n",
        "    percorrer(0, \"\")\n",
        "    return regras\n",
        "\n",
        "# Obter as regras de decisão e imprimir\n",
        "regras = obter_regras(clf.tree_, X_treino.columns, clf.classes_)\n",
        "for regra in regras:\n",
        "    print(regra)\n"
      ],
      "metadata": {
        "id": "soLHfmApjMUj"
      },
      "execution_count": null,
      "outputs": []
    }
  ]
}